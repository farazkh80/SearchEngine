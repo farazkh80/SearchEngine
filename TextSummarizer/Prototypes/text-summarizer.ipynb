{
 "cells": [
  {
   "cell_type": "code",
   "execution_count": 23,
   "source": [
    "import json\r\n",
    "import pandas as pd\r\n",
    "import numpy as np\r\n",
    "import torch\r\n",
    "from pathlib import Path\r\n",
    "from torch.utils.data import Dataset, DataLoader\r\n",
    "from pytorch_lightning import Trainer\r\n",
    "import pytorch_lightning as pl\r\n",
    "from pytorch_lightning.callbacks import ModelCheckpoint\r\n",
    "from pytorch_lightning.loggers import TensorBoardLogger\r\n",
    "from sklearn.model_selection import train_test_split\r\n",
    "import textwrap\r\n",
    "\r\n",
    "from transformers import (\r\n",
    "    AdamW,\r\n",
    "    T5ForConditionalGeneration,\r\n",
    "    T5TokenizerFast as T5Tokenizer\r\n",
    ")\r\n",
    "\r\n",
    "from tqdm.auto import tqdm"
   ],
   "outputs": [],
   "metadata": {}
  },
  {
   "cell_type": "code",
   "execution_count": 24,
   "source": [
    "import seaborn as sns\r\n",
    "from pylab import rcParams\r\n",
    "import matplotlib.pyplot as plt\r\n",
    "from matplotlib import rc\r\n",
    "\r\n",
    "%matplotlib inline\r\n",
    "%config InlineBackend.figure_format='retina'\r\n",
    "\r\n",
    "sns.set(style='whitegrid', palette='muted', font_scale=1.2)\r\n",
    "rcParams['figure.figsize'] = 16,10"
   ],
   "outputs": [],
   "metadata": {}
  },
  {
   "cell_type": "code",
   "execution_count": 25,
   "source": [
    "pl.seed_everything(42)"
   ],
   "outputs": [
    {
     "output_type": "stream",
     "name": "stderr",
     "text": [
      "Global seed set to 42\n"
     ]
    },
    {
     "output_type": "execute_result",
     "data": {
      "text/plain": [
       "42"
      ]
     },
     "metadata": {},
     "execution_count": 25
    }
   ],
   "metadata": {}
  },
  {
   "cell_type": "code",
   "execution_count": 26,
   "source": [
    "# get the data\r\n",
    "df = pd.read_csv('data/news_summary.csv', encoding='latin-1')"
   ],
   "outputs": [],
   "metadata": {}
  },
  {
   "cell_type": "code",
   "execution_count": 27,
   "source": [
    "df.head()"
   ],
   "outputs": [
    {
     "output_type": "execute_result",
     "data": {
      "text/plain": [
       "               author                  date  \\\n",
       "0        Chhavi Tyagi  03 Aug 2017,Thursday   \n",
       "1         Daisy Mowke  03 Aug 2017,Thursday   \n",
       "2      Arshiya Chopra  03 Aug 2017,Thursday   \n",
       "3       Sumedha Sehra  03 Aug 2017,Thursday   \n",
       "4  Aarushi Maheshwari  03 Aug 2017,Thursday   \n",
       "\n",
       "                                           headlines  \\\n",
       "0  Daman & Diu revokes mandatory Rakshabandhan in...   \n",
       "1  Malaika slams user who trolled her for 'divorc...   \n",
       "2  'Virgin' now corrected to 'Unmarried' in IGIMS...   \n",
       "3  Aaj aapne pakad liya: LeT man Dujana before be...   \n",
       "4  Hotel staff to get training to spot signs of s...   \n",
       "\n",
       "                                           read_more  \\\n",
       "0  http://www.hindustantimes.com/india-news/raksh...   \n",
       "1  http://www.hindustantimes.com/bollywood/malaik...   \n",
       "2  http://www.hindustantimes.com/patna/bihar-igim...   \n",
       "3  http://indiatoday.intoday.in/story/abu-dujana-...   \n",
       "4  http://indiatoday.intoday.in/story/sex-traffic...   \n",
       "\n",
       "                                                text  \\\n",
       "0  The Administration of Union Territory Daman an...   \n",
       "1  Malaika Arora slammed an Instagram user who tr...   \n",
       "2  The Indira Gandhi Institute of Medical Science...   \n",
       "3  Lashkar-e-Taiba's Kashmir commander Abu Dujana...   \n",
       "4  Hotels in Maharashtra will train their staff t...   \n",
       "\n",
       "                                               ctext  \n",
       "0  The Daman and Diu administration on Wednesday ...  \n",
       "1  From her special numbers to TV?appearances, Bo...  \n",
       "2  The Indira Gandhi Institute of Medical Science...  \n",
       "3  Lashkar-e-Taiba's Kashmir commander Abu Dujana...  \n",
       "4  Hotels in Mumbai and other Indian cities are t...  "
      ],
      "text/html": [
       "<div>\n",
       "<style scoped>\n",
       "    .dataframe tbody tr th:only-of-type {\n",
       "        vertical-align: middle;\n",
       "    }\n",
       "\n",
       "    .dataframe tbody tr th {\n",
       "        vertical-align: top;\n",
       "    }\n",
       "\n",
       "    .dataframe thead th {\n",
       "        text-align: right;\n",
       "    }\n",
       "</style>\n",
       "<table border=\"1\" class=\"dataframe\">\n",
       "  <thead>\n",
       "    <tr style=\"text-align: right;\">\n",
       "      <th></th>\n",
       "      <th>author</th>\n",
       "      <th>date</th>\n",
       "      <th>headlines</th>\n",
       "      <th>read_more</th>\n",
       "      <th>text</th>\n",
       "      <th>ctext</th>\n",
       "    </tr>\n",
       "  </thead>\n",
       "  <tbody>\n",
       "    <tr>\n",
       "      <th>0</th>\n",
       "      <td>Chhavi Tyagi</td>\n",
       "      <td>03 Aug 2017,Thursday</td>\n",
       "      <td>Daman &amp; Diu revokes mandatory Rakshabandhan in...</td>\n",
       "      <td>http://www.hindustantimes.com/india-news/raksh...</td>\n",
       "      <td>The Administration of Union Territory Daman an...</td>\n",
       "      <td>The Daman and Diu administration on Wednesday ...</td>\n",
       "    </tr>\n",
       "    <tr>\n",
       "      <th>1</th>\n",
       "      <td>Daisy Mowke</td>\n",
       "      <td>03 Aug 2017,Thursday</td>\n",
       "      <td>Malaika slams user who trolled her for 'divorc...</td>\n",
       "      <td>http://www.hindustantimes.com/bollywood/malaik...</td>\n",
       "      <td>Malaika Arora slammed an Instagram user who tr...</td>\n",
       "      <td>From her special numbers to TV?appearances, Bo...</td>\n",
       "    </tr>\n",
       "    <tr>\n",
       "      <th>2</th>\n",
       "      <td>Arshiya Chopra</td>\n",
       "      <td>03 Aug 2017,Thursday</td>\n",
       "      <td>'Virgin' now corrected to 'Unmarried' in IGIMS...</td>\n",
       "      <td>http://www.hindustantimes.com/patna/bihar-igim...</td>\n",
       "      <td>The Indira Gandhi Institute of Medical Science...</td>\n",
       "      <td>The Indira Gandhi Institute of Medical Science...</td>\n",
       "    </tr>\n",
       "    <tr>\n",
       "      <th>3</th>\n",
       "      <td>Sumedha Sehra</td>\n",
       "      <td>03 Aug 2017,Thursday</td>\n",
       "      <td>Aaj aapne pakad liya: LeT man Dujana before be...</td>\n",
       "      <td>http://indiatoday.intoday.in/story/abu-dujana-...</td>\n",
       "      <td>Lashkar-e-Taiba's Kashmir commander Abu Dujana...</td>\n",
       "      <td>Lashkar-e-Taiba's Kashmir commander Abu Dujana...</td>\n",
       "    </tr>\n",
       "    <tr>\n",
       "      <th>4</th>\n",
       "      <td>Aarushi Maheshwari</td>\n",
       "      <td>03 Aug 2017,Thursday</td>\n",
       "      <td>Hotel staff to get training to spot signs of s...</td>\n",
       "      <td>http://indiatoday.intoday.in/story/sex-traffic...</td>\n",
       "      <td>Hotels in Maharashtra will train their staff t...</td>\n",
       "      <td>Hotels in Mumbai and other Indian cities are t...</td>\n",
       "    </tr>\n",
       "  </tbody>\n",
       "</table>\n",
       "</div>"
      ]
     },
     "metadata": {},
     "execution_count": 27
    }
   ],
   "metadata": {}
  },
  {
   "cell_type": "code",
   "execution_count": 28,
   "source": [
    "# just get two cols\r\n",
    "df = df[[\"text\", \"ctext\"]]\r\n",
    "df.head()"
   ],
   "outputs": [
    {
     "output_type": "execute_result",
     "data": {
      "text/plain": [
       "                                                text  \\\n",
       "0  The Administration of Union Territory Daman an...   \n",
       "1  Malaika Arora slammed an Instagram user who tr...   \n",
       "2  The Indira Gandhi Institute of Medical Science...   \n",
       "3  Lashkar-e-Taiba's Kashmir commander Abu Dujana...   \n",
       "4  Hotels in Maharashtra will train their staff t...   \n",
       "\n",
       "                                               ctext  \n",
       "0  The Daman and Diu administration on Wednesday ...  \n",
       "1  From her special numbers to TV?appearances, Bo...  \n",
       "2  The Indira Gandhi Institute of Medical Science...  \n",
       "3  Lashkar-e-Taiba's Kashmir commander Abu Dujana...  \n",
       "4  Hotels in Mumbai and other Indian cities are t...  "
      ],
      "text/html": [
       "<div>\n",
       "<style scoped>\n",
       "    .dataframe tbody tr th:only-of-type {\n",
       "        vertical-align: middle;\n",
       "    }\n",
       "\n",
       "    .dataframe tbody tr th {\n",
       "        vertical-align: top;\n",
       "    }\n",
       "\n",
       "    .dataframe thead th {\n",
       "        text-align: right;\n",
       "    }\n",
       "</style>\n",
       "<table border=\"1\" class=\"dataframe\">\n",
       "  <thead>\n",
       "    <tr style=\"text-align: right;\">\n",
       "      <th></th>\n",
       "      <th>text</th>\n",
       "      <th>ctext</th>\n",
       "    </tr>\n",
       "  </thead>\n",
       "  <tbody>\n",
       "    <tr>\n",
       "      <th>0</th>\n",
       "      <td>The Administration of Union Territory Daman an...</td>\n",
       "      <td>The Daman and Diu administration on Wednesday ...</td>\n",
       "    </tr>\n",
       "    <tr>\n",
       "      <th>1</th>\n",
       "      <td>Malaika Arora slammed an Instagram user who tr...</td>\n",
       "      <td>From her special numbers to TV?appearances, Bo...</td>\n",
       "    </tr>\n",
       "    <tr>\n",
       "      <th>2</th>\n",
       "      <td>The Indira Gandhi Institute of Medical Science...</td>\n",
       "      <td>The Indira Gandhi Institute of Medical Science...</td>\n",
       "    </tr>\n",
       "    <tr>\n",
       "      <th>3</th>\n",
       "      <td>Lashkar-e-Taiba's Kashmir commander Abu Dujana...</td>\n",
       "      <td>Lashkar-e-Taiba's Kashmir commander Abu Dujana...</td>\n",
       "    </tr>\n",
       "    <tr>\n",
       "      <th>4</th>\n",
       "      <td>Hotels in Maharashtra will train their staff t...</td>\n",
       "      <td>Hotels in Mumbai and other Indian cities are t...</td>\n",
       "    </tr>\n",
       "  </tbody>\n",
       "</table>\n",
       "</div>"
      ]
     },
     "metadata": {},
     "execution_count": 28
    }
   ],
   "metadata": {}
  },
  {
   "cell_type": "code",
   "execution_count": 29,
   "source": [
    "# change col names\r\n",
    "df.columns = [\"summary\", \"text\"]\r\n",
    "df = df.dropna()\r\n",
    "df.head()"
   ],
   "outputs": [
    {
     "output_type": "execute_result",
     "data": {
      "text/plain": [
       "                                             summary  \\\n",
       "0  The Administration of Union Territory Daman an...   \n",
       "1  Malaika Arora slammed an Instagram user who tr...   \n",
       "2  The Indira Gandhi Institute of Medical Science...   \n",
       "3  Lashkar-e-Taiba's Kashmir commander Abu Dujana...   \n",
       "4  Hotels in Maharashtra will train their staff t...   \n",
       "\n",
       "                                                text  \n",
       "0  The Daman and Diu administration on Wednesday ...  \n",
       "1  From her special numbers to TV?appearances, Bo...  \n",
       "2  The Indira Gandhi Institute of Medical Science...  \n",
       "3  Lashkar-e-Taiba's Kashmir commander Abu Dujana...  \n",
       "4  Hotels in Mumbai and other Indian cities are t...  "
      ],
      "text/html": [
       "<div>\n",
       "<style scoped>\n",
       "    .dataframe tbody tr th:only-of-type {\n",
       "        vertical-align: middle;\n",
       "    }\n",
       "\n",
       "    .dataframe tbody tr th {\n",
       "        vertical-align: top;\n",
       "    }\n",
       "\n",
       "    .dataframe thead th {\n",
       "        text-align: right;\n",
       "    }\n",
       "</style>\n",
       "<table border=\"1\" class=\"dataframe\">\n",
       "  <thead>\n",
       "    <tr style=\"text-align: right;\">\n",
       "      <th></th>\n",
       "      <th>summary</th>\n",
       "      <th>text</th>\n",
       "    </tr>\n",
       "  </thead>\n",
       "  <tbody>\n",
       "    <tr>\n",
       "      <th>0</th>\n",
       "      <td>The Administration of Union Territory Daman an...</td>\n",
       "      <td>The Daman and Diu administration on Wednesday ...</td>\n",
       "    </tr>\n",
       "    <tr>\n",
       "      <th>1</th>\n",
       "      <td>Malaika Arora slammed an Instagram user who tr...</td>\n",
       "      <td>From her special numbers to TV?appearances, Bo...</td>\n",
       "    </tr>\n",
       "    <tr>\n",
       "      <th>2</th>\n",
       "      <td>The Indira Gandhi Institute of Medical Science...</td>\n",
       "      <td>The Indira Gandhi Institute of Medical Science...</td>\n",
       "    </tr>\n",
       "    <tr>\n",
       "      <th>3</th>\n",
       "      <td>Lashkar-e-Taiba's Kashmir commander Abu Dujana...</td>\n",
       "      <td>Lashkar-e-Taiba's Kashmir commander Abu Dujana...</td>\n",
       "    </tr>\n",
       "    <tr>\n",
       "      <th>4</th>\n",
       "      <td>Hotels in Maharashtra will train their staff t...</td>\n",
       "      <td>Hotels in Mumbai and other Indian cities are t...</td>\n",
       "    </tr>\n",
       "  </tbody>\n",
       "</table>\n",
       "</div>"
      ]
     },
     "metadata": {},
     "execution_count": 29
    }
   ],
   "metadata": {}
  },
  {
   "cell_type": "code",
   "execution_count": 30,
   "source": [
    "df.shape"
   ],
   "outputs": [
    {
     "output_type": "execute_result",
     "data": {
      "text/plain": [
       "(4396, 2)"
      ]
     },
     "metadata": {},
     "execution_count": 30
    }
   ],
   "metadata": {}
  },
  {
   "cell_type": "code",
   "execution_count": 31,
   "source": [
    "# Train test split\r\n",
    "train_df, test_df = train_test_split(df, test_size=0.1)\r\n",
    "train_df.shape, test_df.shape"
   ],
   "outputs": [
    {
     "output_type": "execute_result",
     "data": {
      "text/plain": [
       "((3956, 2), (440, 2))"
      ]
     },
     "metadata": {},
     "execution_count": 31
    }
   ],
   "metadata": {}
  },
  {
   "cell_type": "code",
   "execution_count": 32,
   "source": [
    "class NewsSummaryDataset(Dataset):\r\n",
    "\r\n",
    "    def __init__(\r\n",
    "        self,\r\n",
    "        data: pd.DataFrame,\r\n",
    "        tokenizer: T5Tokenizer,\r\n",
    "        text_max_token_len: int = 512,\r\n",
    "        summary_max_token_len: int = 128\r\n",
    "        ):\r\n",
    "        super().__init__()\r\n",
    "        self.tokenizer = tokenizer\r\n",
    "        self.data = data\r\n",
    "        self.text_max_token_len = text_max_token_len\r\n",
    "        self.summary_max_token_len = summary_max_token_len\r\n",
    "\r\n",
    "    def __len__(self):\r\n",
    "        return len(self.data)\r\n",
    "    \r\n",
    "    def __getitem__(self, index: int):\r\n",
    "        data_row = self.data.iloc[index]\r\n",
    "\r\n",
    "        text_encoding = self.tokenizer(\r\n",
    "            data_row[\"text\"],\r\n",
    "            max_length = self.text_max_token_len,\r\n",
    "            padding=\"max_length\",\r\n",
    "            truncation=True,\r\n",
    "            return_attention_mask=True,\r\n",
    "            add_special_tokens=True,\r\n",
    "            return_tensors=\"pt\"\r\n",
    "        )\r\n",
    "\r\n",
    "        summary_encoding = self.tokenizer(\r\n",
    "            data_row[\"summary\"],\r\n",
    "            max_length = self.summary_max_token_len,\r\n",
    "            padding=\"max_length\",\r\n",
    "            truncation=True,\r\n",
    "            return_attention_mask=True,\r\n",
    "            add_special_tokens=True,\r\n",
    "            return_tensors=\"pt\"\r\n",
    "        )\r\n",
    "\r\n",
    "        labels = summary_encoding['input_ids']\r\n",
    "        labels[labels == 0] = -100\r\n",
    "\r\n",
    "        return dict(\r\n",
    "            text=data_row[\"text\"],\r\n",
    "            summary=data_row[\"summary\"],\r\n",
    "            text_input_ids=text_encoding[\"input_ids\"].flatten(),\r\n",
    "            text_attention_mask=text_encoding[\"attention_mask\"].flatten(),\r\n",
    "            lables= labels.flatten(),\r\n",
    "            labels_attention_msk= summary_encoding[\"attention_mask\"].flatten()\r\n",
    "        )\r\n"
   ],
   "outputs": [],
   "metadata": {}
  },
  {
   "cell_type": "code",
   "execution_count": 33,
   "source": [
    "class NewsSummaryDatasetModule(pl.LightningDataModule):\r\n",
    "\r\n",
    "    def __init__(\r\n",
    "        self,\r\n",
    "        train_df: pd.DataFrame,\r\n",
    "        test_df: pd.DataFrame,\r\n",
    "        tokenizer: T5Tokenizer,\r\n",
    "        batch_size: int = 8,\r\n",
    "        test_max_token_len: int = 512,\r\n",
    "        summary_max_token_len: int = 128\r\n",
    "    ):\r\n",
    "        super().__init__()\r\n",
    "\r\n",
    "        self.train_df = train_df\r\n",
    "        self.test_df = test_df\r\n",
    "\r\n",
    "        self.batch_size = batch_size\r\n",
    "        self.tokenizer = tokenizer\r\n",
    "        self.test_max_token_len = test_max_token_len\r\n",
    "        self.summary_max_token_len = summary_max_token_len\r\n",
    "\r\n",
    "    def setup(self, stage=None):\r\n",
    "        self.train_dataset = NewsSummaryDataset(\r\n",
    "            self.train_df,\r\n",
    "            self.tokenizer,\r\n",
    "            self.test_max_token_len,\r\n",
    "            self.summary_max_token_len\r\n",
    "        )\r\n",
    "\r\n",
    "        self.test_dataset = NewsSummaryDataset(\r\n",
    "            self.test_df,\r\n",
    "            self.tokenizer,\r\n",
    "            self.test_max_token_len,\r\n",
    "            self.summary_max_token_len\r\n",
    "        )\r\n",
    "\r\n",
    "    def train_dataloader(self):\r\n",
    "        return DataLoader(\r\n",
    "            self.train_dataset,\r\n",
    "            batch_size = self.batch_size,\r\n",
    "            shuffle=True,\r\n",
    "            num_workers=2\r\n",
    "        )\r\n",
    "\r\n",
    "    def val_dataloader(self):\r\n",
    "        return DataLoader(\r\n",
    "            self.test_dataset,\r\n",
    "            batch_size = self.batch_size,\r\n",
    "            shuffle=False,\r\n",
    "            num_workers=2\r\n",
    "        )\r\n",
    "\r\n",
    "    def test_dataloader(self):\r\n",
    "        return DataLoader(\r\n",
    "            self.test_dataset,\r\n",
    "            batch_size = self.batch_size,\r\n",
    "            shuffle=False,\r\n",
    "            num_workers=2\r\n",
    "        )"
   ],
   "outputs": [],
   "metadata": {}
  },
  {
   "cell_type": "code",
   "execution_count": 34,
   "source": [
    "MODEL_NAME = 't5-base'\r\n",
    "\r\n",
    "tokenizer = T5Tokenizer.from_pretrained(MODEL_NAME)"
   ],
   "outputs": [],
   "metadata": {}
  },
  {
   "cell_type": "code",
   "execution_count": 35,
   "source": [
    "text_token_counts, summary_token_counts = [], []\r\n",
    "\r\n",
    "for _,row in train_df.iterrows():\r\n",
    "    text_token_count = len(tokenizer.encode(row[\"text\"]))\r\n",
    "    text_token_counts.append(text_token_count)\r\n",
    "\r\n",
    "    summary_token_count = len(tokenizer.encode(row[\"summary\"]))\r\n",
    "    summary_token_counts.append(summary_token_count)"
   ],
   "outputs": [
    {
     "output_type": "stream",
     "name": "stderr",
     "text": [
      "Token indices sequence length is longer than the specified maximum sequence length for this model (689 > 512). Running this sequence through the model will result in indexing errors\n"
     ]
    }
   ],
   "metadata": {}
  },
  {
   "cell_type": "code",
   "execution_count": 36,
   "source": [
    "fig, (ax1, ax2) = plt.subplots(1,2)\r\n",
    "\r\n",
    "sns.histplot(text_token_counts, ax=ax1)\r\n",
    "ax1.set_title(\"text token counts\")\r\n",
    "\r\n",
    "sns.histplot(summary_token_counts, ax=ax2)\r\n",
    "ax2.set_title(\"summary token counts\")"
   ],
   "outputs": [
    {
     "output_type": "execute_result",
     "data": {
      "text/plain": [
       "Text(0.5, 1.0, 'summary token counts')"
      ]
     },
     "metadata": {},
     "execution_count": 36
    },
    {
     "output_type": "display_data",
     "data": {
      "text/plain": [
       "<Figure size 1152x720 with 2 Axes>"
      ],
      "image/png": "[encoded data removed]"
     },
     "metadata": {
      "image/png": {
       "width": 955,
       "height": 595
      }
     }
    }
   ],
   "metadata": {}
  },
  {
   "cell_type": "code",
   "execution_count": 37,
   "source": [
    "N_EPOCHS = 3\r\n",
    "BATCH_SIZE = 8\r\n",
    "\r\n",
    "data_module = NewsSummaryDatasetModule(train_df, test_df, tokenizer, batch_size=BATCH_SIZE)"
   ],
   "outputs": [],
   "metadata": {}
  },
  {
   "cell_type": "code",
   "execution_count": 38,
   "source": [
    "class NewsSummaryModel(pl.LightningModule):\r\n",
    "    def __init__(self):\r\n",
    "        super().__init__()\r\n",
    "        self.model = T5ForConditionalGeneration.from_pretrained(MODEL_NAME, return_dict=True)\r\n",
    "\r\n",
    "    def forward(self, input_ids, attention_msk, decoder_attention_msk, lables=None):\r\n",
    "        output = self.model(\r\n",
    "            input_ids,\r\n",
    "            attention_msk=attention_msk,\r\n",
    "            labels=lables,\r\n",
    "            decoder_attention_msk=decoder_attention_msk\r\n",
    "        )\r\n",
    "\r\n",
    "        return output.loss, output.logits\r\n",
    "\r\n",
    "    def training_step(self, batch, batch_idx):\r\n",
    "        input_ids = batch[\"text_input_ids\"]\r\n",
    "        attention_mask = batch[\"text_attention_mask\"]\r\n",
    "        labels = batch['labels']\r\n",
    "        labels_attention_mask = batch['labels_attention_mask']\r\n",
    "\r\n",
    "        loss, outputs = self(\r\n",
    "            input_ids=input_ids,\r\n",
    "            attention_mask=attention_mask,\r\n",
    "            decoder_attention_mask=labels_attention_mask,\r\n",
    "            labels=labels\r\n",
    "        )\r\n",
    "\r\n",
    "        self.log(\"train_loss\", loss, prog_bar=True, logger=True)\r\n",
    "        return loss\r\n",
    "\r\n",
    "    def validation_step(self, batch, batch_idx):\r\n",
    "        input_ids = batch[\"text_input_ids\"]\r\n",
    "        attention_mask = batch[\"text_attention_mask\"]\r\n",
    "        labels = batch['labels']\r\n",
    "        labels_attention_mask = batch['labels_attention_mask']\r\n",
    "\r\n",
    "        loss, outputs = self(\r\n",
    "            input_ids=input_ids,\r\n",
    "            attention_mask=attention_mask,\r\n",
    "            decoder_attention_mask=labels_attention_mask,\r\n",
    "            labels=labels\r\n",
    "        )\r\n",
    "\r\n",
    "        self.log(\"val_loss\", loss, prog_bar=True, logger=True)\r\n",
    "        return loss\r\n",
    "\r\n",
    "    def test_step(self, batch, batch_idx):\r\n",
    "        input_ids = batch[\"text_input_ids\"]\r\n",
    "        attention_mask = batch[\"text_attention_mask\"]\r\n",
    "        labels = batch['labels']\r\n",
    "        labels_attention_mask = batch['labels_attention_mask']\r\n",
    "\r\n",
    "        loss, outputs = self(\r\n",
    "            input_ids=input_ids,\r\n",
    "            attention_mask=attention_mask,\r\n",
    "            decoder_attention_mask=labels_attention_mask,\r\n",
    "            labels=labels\r\n",
    "        )\r\n",
    "\r\n",
    "        self.log(\"test_loss\", loss, prog_bar=True, logger=True)\r\n",
    "        return loss\r\n",
    "    \r\n",
    "    def configure_optimizers(self):\r\n",
    "        return AdamW(self.parameters(), lr=0.0001)\r\n"
   ],
   "outputs": [],
   "metadata": {}
  },
  {
   "cell_type": "code",
   "execution_count": 39,
   "source": [
    "model = NewsSummaryModel()"
   ],
   "outputs": [],
   "metadata": {}
  },
  {
   "cell_type": "code",
   "execution_count": null,
   "source": [],
   "outputs": [],
   "metadata": {}
  },
  {
   "cell_type": "code",
   "execution_count": 1,
   "source": [
    "%load_ext tensorboard\r\n",
    "%tensorboard --logdir ./lightning_logs"
   ],
   "outputs": [
    {
     "output_type": "display_data",
     "data": {
      "text/plain": [
       "Reusing TensorBoard on port 6006 (pid 7116), started 3:04:36 ago. (Use '!kill 7116' to kill it.)"
      ]
     },
     "metadata": {}
    },
    {
     "output_type": "display_data",
     "data": {
      "text/plain": [
       "<IPython.core.display.HTML object>"
      ],
      "text/html": [
       "\n",
       "      <iframe id=\"tensorboard-frame-57b300064d69de3b\" width=\"100%\" height=\"800\" frameborder=\"0\">\n",
       "      </iframe>\n",
       "      <script>\n",
       "        (function() {\n",
       "          const frame = document.getElementById(\"tensorboard-frame-57b300064d69de3b\");\n",
       "          const url = new URL(\"http://localhost\");\n",
       "          const port = 6006;\n",
       "          if (port) {\n",
       "            url.port = port;\n",
       "          }\n",
       "          frame.src = url;\n",
       "        })();\n",
       "      </script>\n",
       "    "
      ]
     },
     "metadata": {}
    }
   ],
   "metadata": {}
  },
  {
   "cell_type": "code",
   "execution_count": 41,
   "source": [
    "checkpoint_callback = ModelCheckpoint(\r\n",
    "    dirpath=\"checkpoints\",\r\n",
    "    filename=\"best-checkpoint\",\r\n",
    "    save_top_k=1,\r\n",
    "    verbose=True,\r\n",
    "    monitor=\"val_loss\",\r\n",
    "    mode=\"min\"\r\n",
    ")\r\n",
    "\r\n",
    "logger = TensorBoardLogger(\"lightning_logs\", name=\"news-summary\")\r\n",
    "\r\n",
    "trainer = Trainer(\r\n",
    "    logger=logger,\r\n",
    "    callbacks=checkpoint_callback,\r\n",
    "    max_epochs=N_EPOCHS,\r\n",
    "    progress_bar_refresh_rate=30\r\n",
    ")"
   ],
   "outputs": [
    {
     "output_type": "stream",
     "name": "stderr",
     "text": [
      "GPU available: False, used: False\n",
      "TPU available: False, using: 0 TPU cores\n",
      "IPU available: False, using: 0 IPUs\n"
     ]
    }
   ],
   "metadata": {}
  },
  {
   "cell_type": "code",
   "execution_count": 42,
   "source": [
    "trainer.fit(model, data_module)"
   ],
   "outputs": [
    {
     "output_type": "stream",
     "name": "stderr",
     "text": [
      "\n",
      "  | Name  | Type                       | Params\n",
      "-----------------------------------------------------\n",
      "0 | model | T5ForConditionalGeneration | 222 M \n",
      "-----------------------------------------------------\n",
      "222 M     Trainable params\n",
      "0         Non-trainable params\n",
      "222 M     Total params\n",
      "891.614   Total estimated model params size (MB)\n"
     ]
    },
    {
     "output_type": "stream",
     "name": "stdout",
     "text": [
      "Validation sanity check:   0%|          | 0/2 [00:00<?, ?it/s]"
     ]
    },
    {
     "output_type": "stream",
     "name": "stderr",
     "text": [
      "C:\\Users\\Faraz Khoubsirat\\anaconda3\\lib\\site-packages\\pytorch_lightning\\trainer\\data_loading.py:105: UserWarning: The dataloader, val dataloader 0, does not have many workers which may be a bottleneck. Consider increasing the value of the `num_workers` argument` (try 8 which is the number of cpus on this machine) in the `DataLoader` init to improve performance.\n",
      "  rank_zero_warn(\n"
     ]
    }
   ],
   "metadata": {}
  },
  {
   "cell_type": "code",
   "execution_count": null,
   "source": [
    "trainer_model = NewsSummaryModel.load_from_checkpoint(\r\n",
    "    trainer.callbacks.best_model_path\r\n",
    ")\r\n",
    "trainer_model.freeze()"
   ],
   "outputs": [],
   "metadata": {}
  },
  {
   "cell_type": "code",
   "execution_count": null,
   "source": [
    "def summarize(text):\r\n",
    "    text_encoding = tokenizer(\r\n",
    "        text,\r\n",
    "        max_length=512,\r\n",
    "        padding=\"max_length\",\r\n",
    "        truncation=True,\r\n",
    "        return_attention_mask=True,\r\n",
    "        add_special_tokens=True,\r\n",
    "        return_tensors='pt'\r\n",
    "    )\r\n",
    "\r\n",
    "    generated_ids = trainer_model.model.generate(\r\n",
    "        input_ids=text_encoding[\"input_ids\"],\r\n",
    "        attention_mask=text_encoding[\"attention_mask\"],\r\n",
    "        max_length=150,\r\n",
    "        num_beams=2,\r\n",
    "        repetition_penalty=1.0,\r\n",
    "        length_penalty=1.0,\r\n",
    "        early_stopping=True\r\n",
    "    )\r\n",
    "\r\n",
    "    preds = [\r\n",
    "        tokenizer.decode(gen_id, skip_special_tokens=True, clean_up_tokenization_spaces=True)\r\n",
    "        for gen_id in generated_ids\r\n",
    "    ]\r\n",
    "\r\n",
    "    return \"\".join(preds)"
   ],
   "outputs": [],
   "metadata": {}
  }
 ],
 "metadata": {
  "orig_nbformat": 4,
  "language_info": {
   "name": "python",
   "version": "3.8.5",
   "mimetype": "text/x-python",
   "codemirror_mode": {
    "name": "ipython",
    "version": 3
   },
   "pygments_lexer": "ipython3",
   "nbconvert_exporter": "python",
   "file_extension": ".py"
  },
  "kernelspec": {
   "name": "python3",
   "display_name": "Python 3.8.5 64-bit ('base': conda)"
  },
  "interpreter": {
   "hash": "1df6b99b5e9756eed4e22fb0d124bf8d9f8552b372ae034d7c6b29f98bd0c98b"
  }
 },
 "nbformat": 4,
 "nbformat_minor": 2
}